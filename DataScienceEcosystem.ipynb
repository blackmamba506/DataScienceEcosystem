{
 "cells": [
  {
   "cell_type": "markdown",
   "id": "8530f99c-739b-4c23-aa51-b3a548c2dc69",
   "metadata": {},
   "source": [
    "# Data Science Tools and Ecosystem"
   ]
  },
  {
   "cell_type": "markdown",
   "id": "6b44bf47-2ed4-4ecd-8557-645f5462a811",
   "metadata": {},
   "source": [
    "In this notebook, Data Science Tools and Ecosystem are summarized."
   ]
  },
  {
   "cell_type": "markdown",
   "id": "5eae5ca3-09a9-4f97-accd-3232dc0f71c6",
   "metadata": {},
   "source": [
    "__Objectives:__\n",
    "- List popular languages for Data Science\n",
    "- List commonly used libraries used by Data Scientists\n",
    "- List Data Science tools\n"
   ]
  },
  {
   "cell_type": "markdown",
   "id": "d538e27a-3e36-4dc9-bd5a-79f5515a596e",
   "metadata": {},
   "source": [
    "Some of the popular languages that Data Scientists use are:\n",
    "\n",
    "1. Python\n",
    "2. R\n",
    "3. Java\n",
    "4. Julia\n"
   ]
  },
  {
   "cell_type": "markdown",
   "id": "f10313d2-f7ea-431f-b43b-93bfd32e87bc",
   "metadata": {},
   "source": [
    "Some of the commonly used libraries used by Data Scientists include:\n",
    "\n",
    "1. Pandas\n",
    "2. Matplotlib\n",
    "3. Scikit-learn\n",
    "4. Seaborn"
   ]
  },
  {
   "cell_type": "markdown",
   "id": "c86eef49-d605-4479-bb78-2c4f1837b242",
   "metadata": {},
   "source": [
    "Table of Data Science tools : \n",
    "|Data Science Tools|\n",
    "| ------ | \n",
    "| Jupyter Notebooks | \n",
    "|RStudio | \n",
    "| Spyder | \n"
   ]
  },
  {
   "cell_type": "markdown",
   "id": "a14bcd57-3df1-46ce-bd8a-cbec1b44e4dd",
   "metadata": {},
   "source": [
    "### Below are a few examples of evaluating arithmetic expressions in Python."
   ]
  },
  {
   "cell_type": "code",
   "execution_count": 33,
   "id": "98f7bc9c-7e6c-47e1-975a-230e3db279df",
   "metadata": {},
   "outputs": [],
   "source": [
    "#This a simple arithmetic expression to mutiply "
   ]
  },
  {
   "cell_type": "code",
   "execution_count": 35,
   "id": "c27e12dc-ca8f-4fa1-986f-6d02fe62eec8",
   "metadata": {},
   "outputs": [
    {
     "name": "stdout",
     "output_type": "stream",
     "text": [
      "17\n"
     ]
    }
   ],
   "source": [
    "ari_calc=(3*4)+5\n",
    "print(ari_calc)"
   ]
  },
  {
   "cell_type": "code",
   "execution_count": 37,
   "id": "545591a8-d60c-4985-b0ca-0e322151df54",
   "metadata": {},
   "outputs": [],
   "source": [
    "#This will convert 200 minutes to hours by diving by 60"
   ]
  },
  {
   "cell_type": "code",
   "execution_count": 41,
   "id": "aa98002b-a735-4205-85a7-3dead72f39d4",
   "metadata": {},
   "outputs": [
    {
     "name": "stdout",
     "output_type": "stream",
     "text": [
      "3.3333333333333335\n"
     ]
    }
   ],
   "source": [
    "minutes=200\n",
    "hours=minutes/60\n",
    "print(hours)"
   ]
  },
  {
   "cell_type": "markdown",
   "id": "aa9f06b7-ff4a-4094-b2f9-62f50a67cf54",
   "metadata": {},
   "source": [
    "## Author \n",
    "Kevin "
   ]
  },
  {
   "cell_type": "code",
   "execution_count": null,
   "id": "db15e125-851e-479f-864c-f1891ea5f19e",
   "metadata": {},
   "outputs": [],
   "source": []
  },
  {
   "cell_type": "code",
   "execution_count": null,
   "id": "5bc57b23-33b8-43cc-970c-433bf75fa5d1",
   "metadata": {},
   "outputs": [],
   "source": []
  }
 ],
 "metadata": {
  "kernelspec": {
   "display_name": "Python 3 (ipykernel)",
   "language": "python",
   "name": "python3"
  },
  "language_info": {
   "codemirror_mode": {
    "name": "ipython",
    "version": 3
   },
   "file_extension": ".py",
   "mimetype": "text/x-python",
   "name": "python",
   "nbconvert_exporter": "python",
   "pygments_lexer": "ipython3",
   "version": "3.11.7"
  }
 },
 "nbformat": 4,
 "nbformat_minor": 5
}
